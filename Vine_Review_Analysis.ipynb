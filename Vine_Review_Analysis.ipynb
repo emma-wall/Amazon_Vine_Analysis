{
  "nbformat": 4,
  "nbformat_minor": 0,
  "metadata": {
    "colab": {
      "name": "Vine_Review_Analysis.ipynb",
      "provenance": [],
      "collapsed_sections": [],
      "include_colab_link": true
    },
    "kernelspec": {
      "name": "python3",
      "display_name": "Python 3"
    },
    "nteract": {
      "version": "0.12.3"
    },
    "language_info": {
      "name": "python"
    }
  },
  "cells": [
    {
      "cell_type": "markdown",
      "metadata": {
        "id": "view-in-github",
        "colab_type": "text"
      },
      "source": [
        "<a href=\"https://colab.research.google.com/github/emma-wall/Amazon_Vine_Analysis/blob/main/Vine_Review_Analysis.ipynb\" target=\"_parent\"><img src=\"https://colab.research.google.com/assets/colab-badge.svg\" alt=\"Open In Colab\"/></a>"
      ]
    },
    {
      "cell_type": "code",
      "metadata": {
        "id": "V58rxea0HqSa",
        "colab": {
          "base_uri": "https://localhost:8080/"
        },
        "outputId": "1d99dabc-be5c-4e1b-ebca-b807957ef1ae"
      },
      "source": [
        "import os\n",
        "# Find the latest version of spark 3.0 from http://www.apache.org/dist/spark/ and enter as the spark version\n",
        "# For example:\n",
        "# spark_version = 'spark-3.0.3'\n",
        "spark_version = 'spark-3.0.3'\n",
        "os.environ['SPARK_VERSION']=spark_version\n",
        "\n",
        "# Install Spark and Java\n",
        "!apt-get update\n",
        "!apt-get install openjdk-11-jdk-headless -qq > /dev/null\n",
        "!wget -q http://www.apache.org/dist/spark/$SPARK_VERSION/$SPARK_VERSION-bin-hadoop2.7.tgz\n",
        "!tar xf $SPARK_VERSION-bin-hadoop2.7.tgz\n",
        "!pip install -q findspark\n",
        "\n",
        "# Set Environment Variables\n",
        "import os\n",
        "os.environ[\"JAVA_HOME\"] = \"/usr/lib/jvm/java-11-openjdk-amd64\"\n",
        "os.environ[\"SPARK_HOME\"] = f\"/content/{spark_version}-bin-hadoop2.7\"\n",
        "\n",
        "# Start a SparkSession\n",
        "import findspark\n",
        "findspark.init()"
      ],
      "execution_count": 73,
      "outputs": [
        {
          "output_type": "stream",
          "text": [
            "\r0% [Working]\r            \rGet:1 http://security.ubuntu.com/ubuntu bionic-security InRelease [88.7 kB]\n",
            "\r0% [Connecting to archive.ubuntu.com (91.189.88.142)] [1 InRelease 14.2 kB/88.7\r0% [Connecting to archive.ubuntu.com (91.189.88.142)] [Connected to cloud.r-pro\r                                                                               \rHit:2 https://cloud.r-project.org/bin/linux/ubuntu bionic-cran40/ InRelease\n",
            "\r0% [Connecting to archive.ubuntu.com (91.189.88.142)] [Connecting to ppa.launch\r0% [1 InRelease gpgv 88.7 kB] [Connecting to archive.ubuntu.com (91.189.88.142)\r                                                                               \rIgn:3 https://developer.download.nvidia.com/compute/cuda/repos/ubuntu1804/x86_64  InRelease\n",
            "\r0% [1 InRelease gpgv 88.7 kB] [Waiting for headers] [Waiting for headers] [Wait\r                                                                               \rHit:4 http://ppa.launchpad.net/c2d4u.team/c2d4u4.0+/ubuntu bionic InRelease\n",
            "\r                                                                               \r0% [1 InRelease gpgv 88.7 kB] [Waiting for headers] [Waiting for headers]\r                                                                         \rHit:5 http://archive.ubuntu.com/ubuntu bionic InRelease\n",
            "\r0% [1 InRelease gpgv 88.7 kB] [Waiting for headers] [Connecting to ppa.launchpa\r                                                                               \rIgn:6 https://developer.download.nvidia.com/compute/machine-learning/repos/ubuntu1804/x86_64  InRelease\n",
            "\r0% [1 InRelease gpgv 88.7 kB] [Waiting for headers] [Connecting to ppa.launchpa\r                                                                               \rHit:7 https://developer.download.nvidia.com/compute/cuda/repos/ubuntu1804/x86_64  Release\n",
            "\r0% [1 InRelease gpgv 88.7 kB] [Waiting for headers] [Connecting to ppa.launchpa\r                                                                               \rHit:8 https://developer.download.nvidia.com/compute/machine-learning/repos/ubuntu1804/x86_64  Release\n",
            "Get:9 http://archive.ubuntu.com/ubuntu bionic-updates InRelease [88.7 kB]\n",
            "Hit:10 http://ppa.launchpad.net/cran/libgit2/ubuntu bionic InRelease\n",
            "Get:11 http://ppa.launchpad.net/deadsnakes/ppa/ubuntu bionic InRelease [15.9 kB]\n",
            "Get:12 http://archive.ubuntu.com/ubuntu bionic-backports InRelease [74.6 kB]\n",
            "Hit:13 http://ppa.launchpad.net/graphics-drivers/ppa/ubuntu bionic InRelease\n",
            "Get:16 http://ppa.launchpad.net/deadsnakes/ppa/ubuntu bionic/main amd64 Packages [41.4 kB]\n",
            "Fetched 309 kB in 3s (105 kB/s)\n",
            "Reading package lists... Done\n"
          ],
          "name": "stdout"
        }
      ]
    },
    {
      "cell_type": "code",
      "metadata": {
        "id": "_xKwTpATHqSe",
        "colab": {
          "base_uri": "https://localhost:8080/"
        },
        "outputId": "b69adfd7-965a-414e-d0f0-5b9acad1aeb6"
      },
      "source": [
        "# Download the Postgres driver that will allow Spark to interact with Postgres.\n",
        "!wget https://jdbc.postgresql.org/download/postgresql-42.2.16.jar"
      ],
      "execution_count": 74,
      "outputs": [
        {
          "output_type": "stream",
          "text": [
            "--2021-08-07 20:50:48--  https://jdbc.postgresql.org/download/postgresql-42.2.16.jar\n",
            "Resolving jdbc.postgresql.org (jdbc.postgresql.org)... 72.32.157.228, 2001:4800:3e1:1::228\n",
            "Connecting to jdbc.postgresql.org (jdbc.postgresql.org)|72.32.157.228|:443... connected.\n",
            "HTTP request sent, awaiting response... 200 OK\n",
            "Length: 1002883 (979K) [application/java-archive]\n",
            "Saving to: ‘postgresql-42.2.16.jar.1’\n",
            "\n",
            "postgresql-42.2.16. 100%[===================>] 979.38K  5.75MB/s    in 0.2s    \n",
            "\n",
            "2021-08-07 20:50:48 (5.75 MB/s) - ‘postgresql-42.2.16.jar.1’ saved [1002883/1002883]\n",
            "\n"
          ],
          "name": "stdout"
        }
      ]
    },
    {
      "cell_type": "code",
      "metadata": {
        "id": "MMqDAjVS0KN9"
      },
      "source": [
        "from pyspark.sql import SparkSession\n",
        "spark = SparkSession.builder.appName(\"M16-Amazon-Challenge\").config(\"spark.driver.extraClassPath\",\"/content/postgresql-42.2.16.jar\").getOrCreate()"
      ],
      "execution_count": 75,
      "outputs": []
    },
    {
      "cell_type": "markdown",
      "metadata": {
        "id": "cyBsySGuY-9V"
      },
      "source": [
        "### Load Amazon Data into Spark DataFrame"
      ]
    },
    {
      "cell_type": "code",
      "metadata": {
        "id": "CtCmBhQJY-9Z",
        "colab": {
          "base_uri": "https://localhost:8080/"
        },
        "outputId": "0a6e923c-d9b6-40b2-ffe7-af94888506f2"
      },
      "source": [
        "from pyspark import SparkFiles\n",
        "url = \"https://s3.amazonaws.com/amazon-reviews-pds/tsv/amazon_reviews_us_Pet_Products_v1_00.tsv.gz\"\n",
        "spark.sparkContext.addFile(url)\n",
        "df = spark.read.option(\"encoding\", \"UTF-8\").csv(SparkFiles.get(\"\"), sep=\"\\t\", header=True, inferSchema=True)\n",
        "df.show()"
      ],
      "execution_count": 76,
      "outputs": [
        {
          "output_type": "stream",
          "text": [
            "+-----------+-----------+--------------+----------+--------------+--------------------+----------------+-----------+-------------+-----------+----+-----------------+--------------------+--------------------+-----------+\n",
            "|marketplace|customer_id|     review_id|product_id|product_parent|       product_title|product_category|star_rating|helpful_votes|total_votes|vine|verified_purchase|     review_headline|         review_body|review_date|\n",
            "+-----------+-----------+--------------+----------+--------------+--------------------+----------------+-----------+-------------+-----------+----+-----------------+--------------------+--------------------+-----------+\n",
            "|         US|   28794885| REAKC26P07MDN|B00Q0K9604|     510387886|(8-Pack) EZwhelp ...|    Pet Products|          5|            0|          0|   N|                Y|A great purchase ...|Best belly bands ...| 2015-08-31|\n",
            "|         US|   11488901|R3NU7OMZ4HQIEG|B00MBW5O9W|     912374672|Warren Eckstein's...|    Pet Products|          2|            0|          1|   N|                Y|My dogs love Hugs...|My dogs love Hugs...| 2015-08-31|\n",
            "|         US|   43214993|R14QJW3XF8QO1P|B0084OHUIO|     902215727|Tyson's True Chew...|    Pet Products|          5|            0|          0|   N|                Y|I have been purch...|I have been purch...| 2015-08-31|\n",
            "|         US|   12835065|R2HB7AX0394ZGY|B001GS71K2|     568880110|Soft Side Pet Cra...|    Pet Products|          5|            0|          0|   N|                Y|it is easy to ope...|It is extremely w...| 2015-08-31|\n",
            "|         US|   26334022| RGKMPDQGSAHR3|B004ABH1LG|     692846826|EliteField 3-Door...|    Pet Products|          5|            0|          0|   N|                Y|           Dog crate|Worked really wel...| 2015-08-31|\n",
            "|         US|   22283621|R1DJCVPQGCV66E|B00AX0LFM4|     590674141|Carlson 68-Inch W...|    Pet Products|          5|            0|          0|   N|                Y|          Five Stars|I love my gates! ...| 2015-08-31|\n",
            "|         US|   14469895|R3V52EAWLPBFQG|B00DQFZGZ0|     688538603|Dog Seat Cover Wi...|    Pet Products|          3|            0|          0|   N|                Y|Seat belt tugs on...|Didn't quite work...| 2015-08-31|\n",
            "|         US|   50896354|R3DKO8J1J28QBI|B00DIRF9US|     742358789|The Bird Catcher ...|    Pet Products|          2|            0|          0|   N|                Y|Great Pole, but S...|I had the origina...| 2015-08-31|\n",
            "|         US|   18440567| R764DBXGRNECG|B00JRCBFUG|     869798483|Cat Bed - Purrfec...|    Pet Products|          5|            1|          1|   N|                N|     My cat loves it|The pad is very s...| 2015-08-31|\n",
            "|         US|   50502362| RW1853GAT0Z9F|B000L3XYZ4|     501118658|PetSafe Drinkwell...|    Pet Products|          5|            0|          0|   N|                Y|          Five Stars|My cat drinks mor...| 2015-08-31|\n",
            "|         US|   33930128|R33GITXNUF1AD4|B00BOEXWFG|     454737777|Contech ZenDog Ca...|    Pet Products|          2|            0|          0|   N|                Y|Also had to pull ...|Much smaller than...| 2015-08-31|\n",
            "|         US|   43534290|R1H7AVM81TAYRV|B001HBBQKY|     420905252|Wellness Crunchy ...|    Pet Products|          1|            2|          2|   N|                Y|DO NOT PURCHASE -...|I used to love th...| 2015-08-31|\n",
            "|         US|   45555864|R2ZOYAQZNNZZWV|B007O1FHB0|     302588963|Rx Vitamins Essen...|    Pet Products|          5|            0|          0|   N|                Y|          Five Stars|Recommended by my...| 2015-08-31|\n",
            "|         US|   11147406|R2FN1H3CGW6J8H|B001P3NU30|     525778264|Virbac C.E.T. Enz...|    Pet Products|          1|            0|          0|   N|                Y|Received wrong pr...|Yes I  ordered fo...| 2015-08-31|\n",
            "|         US|    6495678| RJB41Q575XNG4|B00ZP6HS6S|     414117299|Kitty Shack - 2 i...|    Pet Products|          5|            0|          3|   N|                Y|          Five Stars|      It falls apart| 2015-08-31|\n",
            "|         US|    2019416|R28W8BM1587CPF|B00IP05CUA|     833937853|Wellness Kittles ...|    Pet Products|          5|            0|          0|   N|                Y|kitty is ravenous...|My cat really lov...| 2015-08-31|\n",
            "|         US|   40459386|R1II0M01NIG293|B001U8Y598|      85343577|OmniPet Anti-Ant ...|    Pet Products|          2|            0|          0|   N|                N|Maybe other speci...|This bowl is not ...| 2015-08-31|\n",
            "|         US|   23126800| RMB8N0DBRH34O|B011AY4JWO|     499241195|K9KONNECTION [New...|    Pet Products|          5|            1|          1|   N|                Y|This works, dog n...|I have a small do...| 2015-08-31|\n",
            "|         US|   30238476|R24WB6A6WVIPU6|B00DDSHE5A|     409532388|SUNSEED COMPANY 3...|    Pet Products|          5|            0|          0|   N|                Y|    Yummy for Bunny!|Bunny loves it! E...| 2015-08-31|\n",
            "|         US|   35113999| ROCJSH0P9YSRW|B00PJW5OR8|     259271919|CXB1983(TM)Cute P...|    Pet Products|          5|            0|          0|   N|                Y|excellent price, ...|Petfect,,quality ...| 2015-08-31|\n",
            "+-----------+-----------+--------------+----------+--------------+--------------------+----------------+-----------+-------------+-----------+----+-----------------+--------------------+--------------------+-----------+\n",
            "only showing top 20 rows\n",
            "\n"
          ],
          "name": "stdout"
        }
      ]
    },
    {
      "cell_type": "markdown",
      "metadata": {
        "id": "2yUSe55VY-9t"
      },
      "source": [
        "### Create DataFrames\n"
      ]
    },
    {
      "cell_type": "code",
      "metadata": {
        "id": "C8REmY1aY-9u",
        "colab": {
          "base_uri": "https://localhost:8080/"
        },
        "outputId": "1aeaa252-b8a9-4973-c2e0-9c2f400685ec"
      },
      "source": [
        "# Create the vine_table DataFrame\n",
        "vine_df = df.select(['review_id', 'star_rating', 'helpful_votes', 'total_votes','vine', 'verified_purchase'])\n",
        "vine_df.show()\n"
      ],
      "execution_count": 77,
      "outputs": [
        {
          "output_type": "stream",
          "text": [
            "+--------------+-----------+-------------+-----------+----+-----------------+\n",
            "|     review_id|star_rating|helpful_votes|total_votes|vine|verified_purchase|\n",
            "+--------------+-----------+-------------+-----------+----+-----------------+\n",
            "| REAKC26P07MDN|          5|            0|          0|   N|                Y|\n",
            "|R3NU7OMZ4HQIEG|          2|            0|          1|   N|                Y|\n",
            "|R14QJW3XF8QO1P|          5|            0|          0|   N|                Y|\n",
            "|R2HB7AX0394ZGY|          5|            0|          0|   N|                Y|\n",
            "| RGKMPDQGSAHR3|          5|            0|          0|   N|                Y|\n",
            "|R1DJCVPQGCV66E|          5|            0|          0|   N|                Y|\n",
            "|R3V52EAWLPBFQG|          3|            0|          0|   N|                Y|\n",
            "|R3DKO8J1J28QBI|          2|            0|          0|   N|                Y|\n",
            "| R764DBXGRNECG|          5|            1|          1|   N|                N|\n",
            "| RW1853GAT0Z9F|          5|            0|          0|   N|                Y|\n",
            "|R33GITXNUF1AD4|          2|            0|          0|   N|                Y|\n",
            "|R1H7AVM81TAYRV|          1|            2|          2|   N|                Y|\n",
            "|R2ZOYAQZNNZZWV|          5|            0|          0|   N|                Y|\n",
            "|R2FN1H3CGW6J8H|          1|            0|          0|   N|                Y|\n",
            "| RJB41Q575XNG4|          5|            0|          3|   N|                Y|\n",
            "|R28W8BM1587CPF|          5|            0|          0|   N|                Y|\n",
            "|R1II0M01NIG293|          2|            0|          0|   N|                N|\n",
            "| RMB8N0DBRH34O|          5|            1|          1|   N|                Y|\n",
            "|R24WB6A6WVIPU6|          5|            0|          0|   N|                Y|\n",
            "| ROCJSH0P9YSRW|          5|            0|          0|   N|                Y|\n",
            "+--------------+-----------+-------------+-----------+----+-----------------+\n",
            "only showing top 20 rows\n",
            "\n"
          ],
          "name": "stdout"
        }
      ]
    },
    {
      "cell_type": "code",
      "metadata": {
        "id": "B0TESUDRY-90",
        "colab": {
          "base_uri": "https://localhost:8080/"
        },
        "outputId": "f472f653-e74a-466f-d8a3-cdcf744a35df"
      },
      "source": [
        "# Filter the Vine DataFrame/ create new DataFrame where total_votes is greater or equal to 20\n",
        "votes_df = vine_df.filter(vine_df.total_votes >= 20)\n",
        "votes_df.show()"
      ],
      "execution_count": 78,
      "outputs": [
        {
          "output_type": "stream",
          "text": [
            "+--------------+-----------+-------------+-----------+----+-----------------+\n",
            "|     review_id|star_rating|helpful_votes|total_votes|vine|verified_purchase|\n",
            "+--------------+-----------+-------------+-----------+----+-----------------+\n",
            "|R21KC552Y6HL8X|          1|           27|         31|   N|                Y|\n",
            "| RX9WC9FTIR1XR|          5|           25|         25|   N|                Y|\n",
            "| RGDCOU1KBHMNG|          3|           29|         31|   N|                Y|\n",
            "| RVTYWID2TPMMY|          2|           35|         42|   N|                Y|\n",
            "|R2CMPZ5VESGRLY|          4|           27|         28|   N|                Y|\n",
            "|R3VQPJZ54B55BA|          5|           62|         64|   N|                N|\n",
            "|R24QM6D7FEDZ5M|          2|           36|         43|   N|                Y|\n",
            "|R3A1VQ3SQDXEJ3|          5|           20|         20|   N|                Y|\n",
            "|  R39GSNW76GYF|          1|           20|         23|   N|                Y|\n",
            "| RPJLR6MFDPXXE|          5|           35|         36|   N|                Y|\n",
            "|R34X0ZGVB3YGYO|          5|           47|         47|   N|                Y|\n",
            "|R2C9O1BOV14Q0Z|          1|           62|         79|   N|                Y|\n",
            "| RM6ZH5J3XDNHK|          5|           79|         87|   N|                Y|\n",
            "|R2E363K75EMW4K|          5|           66|         69|   N|                Y|\n",
            "|R2VJII8VKSJHDF|          1|           24|         29|   N|                N|\n",
            "|R2U35Y2P27M13E|          1|           43|         45|   N|                Y|\n",
            "| RLMZOQL11VHBX|          5|           23|         24|   N|                Y|\n",
            "|R3C6CQQRRA8SYP|          5|           52|         58|   N|                Y|\n",
            "|R3T7YOX0AEDZL3|          1|           45|         47|   N|                N|\n",
            "|R176V3AYS3R4HG|          5|           26|         27|   N|                N|\n",
            "+--------------+-----------+-------------+-----------+----+-----------------+\n",
            "only showing top 20 rows\n",
            "\n"
          ],
          "name": "stdout"
        }
      ]
    },
    {
      "cell_type": "code",
      "metadata": {
        "id": "4FwXA6UvY-96",
        "colab": {
          "base_uri": "https://localhost:8080/"
        },
        "outputId": "b18f51ec-9e67-4c11-cdb9-3868c5324242"
      },
      "source": [
        "# Filter the Votes DataFrame to show where the percentage of helpful votes is above 50%\n",
        "helpful_votes_df = votes_df.withColumn(\"helpful_votes_percentage\", votes_df.helpful_votes/votes_df.total_votes *100)\n",
        "helpful_votes_df = helpful_votes_df.filter(helpful_votes_df.helpful_votes_percentage >= 50)\n",
        "helpful_votes_df.show()"
      ],
      "execution_count": 79,
      "outputs": [
        {
          "output_type": "stream",
          "text": [
            "+--------------+-----------+-------------+-----------+----+-----------------+------------------------+\n",
            "|     review_id|star_rating|helpful_votes|total_votes|vine|verified_purchase|helpful_votes_percentage|\n",
            "+--------------+-----------+-------------+-----------+----+-----------------+------------------------+\n",
            "|R21KC552Y6HL8X|          1|           27|         31|   N|                Y|       87.09677419354838|\n",
            "| RX9WC9FTIR1XR|          5|           25|         25|   N|                Y|                   100.0|\n",
            "| RGDCOU1KBHMNG|          3|           29|         31|   N|                Y|       93.54838709677419|\n",
            "| RVTYWID2TPMMY|          2|           35|         42|   N|                Y|       83.33333333333334|\n",
            "|R2CMPZ5VESGRLY|          4|           27|         28|   N|                Y|       96.42857142857143|\n",
            "|R3VQPJZ54B55BA|          5|           62|         64|   N|                N|                  96.875|\n",
            "|R24QM6D7FEDZ5M|          2|           36|         43|   N|                Y|       83.72093023255815|\n",
            "|R3A1VQ3SQDXEJ3|          5|           20|         20|   N|                Y|                   100.0|\n",
            "|  R39GSNW76GYF|          1|           20|         23|   N|                Y|       86.95652173913044|\n",
            "| RPJLR6MFDPXXE|          5|           35|         36|   N|                Y|       97.22222222222221|\n",
            "|R34X0ZGVB3YGYO|          5|           47|         47|   N|                Y|                   100.0|\n",
            "|R2C9O1BOV14Q0Z|          1|           62|         79|   N|                Y|       78.48101265822784|\n",
            "| RM6ZH5J3XDNHK|          5|           79|         87|   N|                Y|       90.80459770114942|\n",
            "|R2E363K75EMW4K|          5|           66|         69|   N|                Y|       95.65217391304348|\n",
            "|R2VJII8VKSJHDF|          1|           24|         29|   N|                N|       82.75862068965517|\n",
            "|R2U35Y2P27M13E|          1|           43|         45|   N|                Y|       95.55555555555556|\n",
            "| RLMZOQL11VHBX|          5|           23|         24|   N|                Y|       95.83333333333334|\n",
            "|R3C6CQQRRA8SYP|          5|           52|         58|   N|                Y|       89.65517241379311|\n",
            "|R3T7YOX0AEDZL3|          1|           45|         47|   N|                N|       95.74468085106383|\n",
            "|R176V3AYS3R4HG|          5|           26|         27|   N|                N|       96.29629629629629|\n",
            "+--------------+-----------+-------------+-----------+----+-----------------+------------------------+\n",
            "only showing top 20 rows\n",
            "\n"
          ],
          "name": "stdout"
        }
      ]
    },
    {
      "cell_type": "code",
      "metadata": {
        "id": "MkqyCuNQY-9-",
        "colab": {
          "base_uri": "https://localhost:8080/"
        },
        "outputId": "93da698a-b1a1-4cec-8cf4-55792846b990"
      },
      "source": [
        "# Filter the helpful_votes_df to show review that were part of the Vine program (paid)\n",
        "vine_reviews_df = helpful_votes_df.filter(helpful_votes_df.vine==\"Y\")\n",
        "vine_reviews_df.show()"
      ],
      "execution_count": 80,
      "outputs": [
        {
          "output_type": "stream",
          "text": [
            "+--------------+-----------+-------------+-----------+----+-----------------+------------------------+\n",
            "|     review_id|star_rating|helpful_votes|total_votes|vine|verified_purchase|helpful_votes_percentage|\n",
            "+--------------+-----------+-------------+-----------+----+-----------------+------------------------+\n",
            "|R3A71VR1JZD8WF|          2|           27|         30|   Y|                N|                    90.0|\n",
            "|R16OMUJIGI18JZ|          5|           72|         72|   Y|                N|                   100.0|\n",
            "|R3TS8ZP2FHQ9XR|          5|           39|         42|   Y|                N|       92.85714285714286|\n",
            "|R2MHP919VZN7DI|          5|           29|         30|   Y|                N|       96.66666666666667|\n",
            "| RD2BCTVS59A5L|          2|           20|         20|   Y|                N|                   100.0|\n",
            "|R1JUJLXQ2CMWKF|          4|           25|         26|   Y|                N|       96.15384615384616|\n",
            "|R2T7YE0IFI6N9L|          3|           24|         25|   Y|                N|                    96.0|\n",
            "|R25FI3J7WWOYXM|          3|           55|         58|   Y|                N|       94.82758620689656|\n",
            "|R3P3U4EOWIUD50|          3|           27|         36|   Y|                N|                    75.0|\n",
            "|R3C7MKX7MO6XUC|          5|          216|        219|   Y|                N|       98.63013698630137|\n",
            "|R1DFDDK1ZWKN3D|          2|           61|         65|   Y|                N|       93.84615384615384|\n",
            "|R38G7BRBA2LGGV|          3|           47|         54|   Y|                N|       87.03703703703704|\n",
            "|R2XQXWNEBSB9WO|          4|           52|         56|   Y|                N|       92.85714285714286|\n",
            "|R1UFK241B2KN48|          4|          375|        378|   Y|                N|       99.20634920634922|\n",
            "|R3H9CGK58BVHI5|          4|           42|         46|   Y|                N|       91.30434782608695|\n",
            "|R3FKBT77ZTUPLQ|          5|           15|         20|   Y|                N|                    75.0|\n",
            "|R3NSXBUR3O1CE8|          5|           21|         22|   Y|                N|       95.45454545454545|\n",
            "|R13JI50KH7BTBU|          4|           29|         30|   Y|                N|       96.66666666666667|\n",
            "|R2LWQUQ6KB5ZN5|          4|           29|         36|   Y|                Y|       80.55555555555556|\n",
            "|R1JORBU2J7HG3H|          5|           22|         25|   Y|                N|                    88.0|\n",
            "+--------------+-----------+-------------+-----------+----+-----------------+------------------------+\n",
            "only showing top 20 rows\n",
            "\n"
          ],
          "name": "stdout"
        }
      ]
    },
    {
      "cell_type": "code",
      "metadata": {
        "id": "lzMmkdKmY--D",
        "colab": {
          "base_uri": "https://localhost:8080/"
        },
        "outputId": "55cb4482-fbd2-442d-e738-a1f56483cc82"
      },
      "source": [
        "# Filter the helpful_votes_df to show review that were not part of the Vine program (unpaid)\n",
        "nonvine_reviews_df = helpful_votes_df.filter(helpful_votes_df.vine==\"N\")\n",
        "nonvine_reviews_df.show()"
      ],
      "execution_count": 81,
      "outputs": [
        {
          "output_type": "stream",
          "text": [
            "+--------------+-----------+-------------+-----------+----+-----------------+------------------------+\n",
            "|     review_id|star_rating|helpful_votes|total_votes|vine|verified_purchase|helpful_votes_percentage|\n",
            "+--------------+-----------+-------------+-----------+----+-----------------+------------------------+\n",
            "|R21KC552Y6HL8X|          1|           27|         31|   N|                Y|       87.09677419354838|\n",
            "| RX9WC9FTIR1XR|          5|           25|         25|   N|                Y|                   100.0|\n",
            "| RGDCOU1KBHMNG|          3|           29|         31|   N|                Y|       93.54838709677419|\n",
            "| RVTYWID2TPMMY|          2|           35|         42|   N|                Y|       83.33333333333334|\n",
            "|R2CMPZ5VESGRLY|          4|           27|         28|   N|                Y|       96.42857142857143|\n",
            "|R3VQPJZ54B55BA|          5|           62|         64|   N|                N|                  96.875|\n",
            "|R24QM6D7FEDZ5M|          2|           36|         43|   N|                Y|       83.72093023255815|\n",
            "|R3A1VQ3SQDXEJ3|          5|           20|         20|   N|                Y|                   100.0|\n",
            "|  R39GSNW76GYF|          1|           20|         23|   N|                Y|       86.95652173913044|\n",
            "| RPJLR6MFDPXXE|          5|           35|         36|   N|                Y|       97.22222222222221|\n",
            "|R34X0ZGVB3YGYO|          5|           47|         47|   N|                Y|                   100.0|\n",
            "|R2C9O1BOV14Q0Z|          1|           62|         79|   N|                Y|       78.48101265822784|\n",
            "| RM6ZH5J3XDNHK|          5|           79|         87|   N|                Y|       90.80459770114942|\n",
            "|R2E363K75EMW4K|          5|           66|         69|   N|                Y|       95.65217391304348|\n",
            "|R2VJII8VKSJHDF|          1|           24|         29|   N|                N|       82.75862068965517|\n",
            "|R2U35Y2P27M13E|          1|           43|         45|   N|                Y|       95.55555555555556|\n",
            "| RLMZOQL11VHBX|          5|           23|         24|   N|                Y|       95.83333333333334|\n",
            "|R3C6CQQRRA8SYP|          5|           52|         58|   N|                Y|       89.65517241379311|\n",
            "|R3T7YOX0AEDZL3|          1|           45|         47|   N|                N|       95.74468085106383|\n",
            "|R176V3AYS3R4HG|          5|           26|         27|   N|                N|       96.29629629629629|\n",
            "+--------------+-----------+-------------+-----------+----+-----------------+------------------------+\n",
            "only showing top 20 rows\n",
            "\n"
          ],
          "name": "stdout"
        }
      ]
    },
    {
      "cell_type": "markdown",
      "metadata": {
        "id": "ErE9THk-YDLs"
      },
      "source": [
        "###Preform Analysis on Vine and Non-Vine Review Dataframes"
      ]
    },
    {
      "cell_type": "code",
      "metadata": {
        "id": "7jiUvs1aY--L",
        "colab": {
          "base_uri": "https://localhost:8080/"
        },
        "outputId": "347f82d7-ad8e-4464-aae1-0046caa28315"
      },
      "source": [
        "# Find number of reviews, number of 5-star reviews and percentage of 5-star reviews \n",
        "# Vine Reviews\n",
        "vine_review_count = vine_reviews_df.count()\n",
        "vine_fivestar_count = vine_reviews_df.filter(vine_reviews_df.star_rating == 5).count()\n",
        "vine_fivestar_percent = vine_fivestar_count/vine_review_count * 100\n",
        "\n",
        "# None Vine Reviews\n",
        "nonvine_review_count = nonvine_reviews_df.count()\n",
        "nonvine_fivestar_count = nonvine_reviews_df.filter(nonvine_reviews_df.star_rating == 5).count()\n",
        "nonvine_fivestar_percent = nonvine_fivestar_count/nonvine_review_count * 100\n",
        "\n",
        "# Display in DataFrame\"\n",
        "columns = ['','total_reviews', 'fivestar_reviews', 'precent_fivestar_reviews']\n",
        "vals = [('Vine',vine_review_count, vine_fivestar_count, vine_fivestar_percent), \n",
        "        ('Non-Vine',nonvine_review_count, nonvine_fivestar_count, nonvine_fivestar_percent)]\n",
        "fivestar_df = spark.createDataFrame(vals, columns)\n",
        "fivestar_df.show()"
      ],
      "execution_count": 82,
      "outputs": [
        {
          "output_type": "stream",
          "text": [
            "+--------+-------------+----------------+------------------------+\n",
            "|        |total_reviews|fivestar_reviews|precent_fivestar_reviews|\n",
            "+--------+-------------+----------------+------------------------+\n",
            "|    Vine|          170|              65|       38.23529411764706|\n",
            "|Non-Vine|        37840|           20612|      54.471458773784356|\n",
            "+--------+-------------+----------------+------------------------+\n",
            "\n"
          ],
          "name": "stdout"
        }
      ]
    },
    {
      "cell_type": "code",
      "metadata": {
        "id": "68XqfSIbWYNy"
      },
      "source": [
        ""
      ],
      "execution_count": null,
      "outputs": []
    },
    {
      "cell_type": "code",
      "metadata": {
        "id": "Exuo6ebUsCqW"
      },
      "source": [
        ""
      ],
      "execution_count": null,
      "outputs": []
    }
  ]
}